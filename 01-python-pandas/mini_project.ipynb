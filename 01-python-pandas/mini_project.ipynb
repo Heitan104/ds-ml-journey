{
 "cells": [
  {
   "cell_type": "code",
   "execution_count": 10,
   "id": "214428d7",
   "metadata": {},
   "outputs": [],
   "source": [
    "import pandas as pd\n",
    "import numpy as np\n"
   ]
  },
  {
   "cell_type": "markdown",
   "id": "e06a9ba0",
   "metadata": {},
   "source": [
    "For this weeks project, I am going to take my music history from youtube music and analyze trends, such as:\n",
    "- which songs I've listened to the most/least in my playlist\n",
    "- What times I most often listen to music\n",
    "- What type of music I listen to the most"
   ]
  },
  {
   "cell_type": "code",
   "execution_count": 11,
   "id": "f9c2c234",
   "metadata": {},
   "outputs": [
    {
     "data": {
      "text/html": [
       "<div>\n",
       "<style scoped>\n",
       "    .dataframe tbody tr th:only-of-type {\n",
       "        vertical-align: middle;\n",
       "    }\n",
       "\n",
       "    .dataframe tbody tr th {\n",
       "        vertical-align: top;\n",
       "    }\n",
       "\n",
       "    .dataframe thead th {\n",
       "        text-align: right;\n",
       "    }\n",
       "</style>\n",
       "<table border=\"1\" class=\"dataframe\">\n",
       "  <thead>\n",
       "    <tr style=\"text-align: right;\">\n",
       "      <th></th>\n",
       "      <th>header</th>\n",
       "      <th>title</th>\n",
       "      <th>titleUrl</th>\n",
       "      <th>description</th>\n",
       "      <th>time</th>\n",
       "      <th>products</th>\n",
       "      <th>details</th>\n",
       "      <th>activityControls</th>\n",
       "      <th>subtitles</th>\n",
       "    </tr>\n",
       "  </thead>\n",
       "  <tbody>\n",
       "    <tr>\n",
       "      <th>0</th>\n",
       "      <td>YouTube</td>\n",
       "      <td>Watched Kenshin Himura vs Isliid, Human Pinnac...</td>\n",
       "      <td>https://www.youtube.com/watch?v=CeO93tfDtnU</td>\n",
       "      <td>Watched at 11:46 PM</td>\n",
       "      <td>2025-05-20T03:46:26.034Z</td>\n",
       "      <td>[YouTube]</td>\n",
       "      <td>[{'name': 'From Google Ads'}]</td>\n",
       "      <td>[Web &amp; App Activity, YouTube watch history, Yo...</td>\n",
       "      <td>NaN</td>\n",
       "    </tr>\n",
       "    <tr>\n",
       "      <th>1</th>\n",
       "      <td>YouTube</td>\n",
       "      <td>Watched THEY PICKED MY RIVEN BUT FORGOT ABOUT ...</td>\n",
       "      <td>https://www.youtube.com/watch?v=2pqGuPtV1hg</td>\n",
       "      <td>NaN</td>\n",
       "      <td>2025-05-20T03:37:25.404Z</td>\n",
       "      <td>[YouTube]</td>\n",
       "      <td>NaN</td>\n",
       "      <td>[YouTube watch history]</td>\n",
       "      <td>[{'name': 'AloisNL', 'url': 'https://www.youtu...</td>\n",
       "    </tr>\n",
       "    <tr>\n",
       "      <th>2</th>\n",
       "      <td>YouTube</td>\n",
       "      <td>Watched Google Pixel FY25 H1 Mechanic 15s OLV ...</td>\n",
       "      <td>https://www.youtube.com/watch?v=OFhcgkcNiI0</td>\n",
       "      <td>Watched at 11:37 PM</td>\n",
       "      <td>2025-05-20T03:37:09.281Z</td>\n",
       "      <td>[YouTube]</td>\n",
       "      <td>[{'name': 'From Google Ads'}]</td>\n",
       "      <td>[Web &amp; App Activity, YouTube watch history, Yo...</td>\n",
       "      <td>NaN</td>\n",
       "    </tr>\n",
       "    <tr>\n",
       "      <th>3</th>\n",
       "      <td>YouTube</td>\n",
       "      <td>Watched Play The Game</td>\n",
       "      <td>https://www.youtube.com/watch?v=vZSyBEexozA</td>\n",
       "      <td>NaN</td>\n",
       "      <td>2025-05-20T03:36:41.491Z</td>\n",
       "      <td>[YouTube]</td>\n",
       "      <td>NaN</td>\n",
       "      <td>[YouTube watch history]</td>\n",
       "      <td>[{'name': 'Pirate Software', 'url': 'https://w...</td>\n",
       "    </tr>\n",
       "    <tr>\n",
       "      <th>4</th>\n",
       "      <td>YouTube</td>\n",
       "      <td>Watched 🥁 👀 🏃 #drummer #drums #intheairtonight...</td>\n",
       "      <td>https://www.youtube.com/watch?v=1KDiQXqJoyw</td>\n",
       "      <td>NaN</td>\n",
       "      <td>2025-05-20T03:36:36.293Z</td>\n",
       "      <td>[YouTube]</td>\n",
       "      <td>NaN</td>\n",
       "      <td>[YouTube watch history]</td>\n",
       "      <td>[{'name': 'Now Dig This', 'url': 'https://www....</td>\n",
       "    </tr>\n",
       "  </tbody>\n",
       "</table>\n",
       "</div>"
      ],
      "text/plain": [
       "    header                                              title  \\\n",
       "0  YouTube  Watched Kenshin Himura vs Isliid, Human Pinnac...   \n",
       "1  YouTube  Watched THEY PICKED MY RIVEN BUT FORGOT ABOUT ...   \n",
       "2  YouTube  Watched Google Pixel FY25 H1 Mechanic 15s OLV ...   \n",
       "3  YouTube                              Watched Play The Game   \n",
       "4  YouTube  Watched 🥁 👀 🏃 #drummer #drums #intheairtonight...   \n",
       "\n",
       "                                      titleUrl          description  \\\n",
       "0  https://www.youtube.com/watch?v=CeO93tfDtnU  Watched at 11:46 PM   \n",
       "1  https://www.youtube.com/watch?v=2pqGuPtV1hg                  NaN   \n",
       "2  https://www.youtube.com/watch?v=OFhcgkcNiI0  Watched at 11:37 PM   \n",
       "3  https://www.youtube.com/watch?v=vZSyBEexozA                  NaN   \n",
       "4  https://www.youtube.com/watch?v=1KDiQXqJoyw                  NaN   \n",
       "\n",
       "                       time   products                        details  \\\n",
       "0  2025-05-20T03:46:26.034Z  [YouTube]  [{'name': 'From Google Ads'}]   \n",
       "1  2025-05-20T03:37:25.404Z  [YouTube]                            NaN   \n",
       "2  2025-05-20T03:37:09.281Z  [YouTube]  [{'name': 'From Google Ads'}]   \n",
       "3  2025-05-20T03:36:41.491Z  [YouTube]                            NaN   \n",
       "4  2025-05-20T03:36:36.293Z  [YouTube]                            NaN   \n",
       "\n",
       "                                    activityControls  \\\n",
       "0  [Web & App Activity, YouTube watch history, Yo...   \n",
       "1                            [YouTube watch history]   \n",
       "2  [Web & App Activity, YouTube watch history, Yo...   \n",
       "3                            [YouTube watch history]   \n",
       "4                            [YouTube watch history]   \n",
       "\n",
       "                                           subtitles  \n",
       "0                                                NaN  \n",
       "1  [{'name': 'AloisNL', 'url': 'https://www.youtu...  \n",
       "2                                                NaN  \n",
       "3  [{'name': 'Pirate Software', 'url': 'https://w...  \n",
       "4  [{'name': 'Now Dig This', 'url': 'https://www....  "
      ]
     },
     "execution_count": 11,
     "metadata": {},
     "output_type": "execute_result"
    }
   ],
   "source": [
    "history = pd.read_json('data/Takeout/YouTube and YouTube Music/history/watch-history.json') # Just grabbing the json file with all my youtube watches (includes youtube videos and youtube music)\n",
    "history.head()"
   ]
  },
  {
   "cell_type": "markdown",
   "id": "44d1ed97",
   "metadata": {},
   "source": [
    "Although this contains my music history, it also includes my youtube watch history. This isn't what we are here for so I'm going to take only those with the header 'YouTube Music'"
   ]
  },
  {
   "cell_type": "code",
   "execution_count": 12,
   "id": "d273bbb4",
   "metadata": {},
   "outputs": [
    {
     "data": {
      "text/html": [
       "<div>\n",
       "<style scoped>\n",
       "    .dataframe tbody tr th:only-of-type {\n",
       "        vertical-align: middle;\n",
       "    }\n",
       "\n",
       "    .dataframe tbody tr th {\n",
       "        vertical-align: top;\n",
       "    }\n",
       "\n",
       "    .dataframe thead th {\n",
       "        text-align: right;\n",
       "    }\n",
       "</style>\n",
       "<table border=\"1\" class=\"dataframe\">\n",
       "  <thead>\n",
       "    <tr style=\"text-align: right;\">\n",
       "      <th></th>\n",
       "      <th>header</th>\n",
       "      <th>title</th>\n",
       "      <th>titleUrl</th>\n",
       "      <th>description</th>\n",
       "      <th>time</th>\n",
       "      <th>products</th>\n",
       "      <th>details</th>\n",
       "      <th>activityControls</th>\n",
       "      <th>subtitles</th>\n",
       "    </tr>\n",
       "  </thead>\n",
       "  <tbody>\n",
       "    <tr>\n",
       "      <th>326</th>\n",
       "      <td>YouTube Music</td>\n",
       "      <td>Watched 90210</td>\n",
       "      <td>https://music.youtube.com/watch?v=tBfWb5IrbOI</td>\n",
       "      <td>NaN</td>\n",
       "      <td>2025-05-18T16:18:00.227Z</td>\n",
       "      <td>[YouTube]</td>\n",
       "      <td>NaN</td>\n",
       "      <td>[YouTube watch history]</td>\n",
       "      <td>[{'name': 'Travis Scott - Topic', 'url': 'http...</td>\n",
       "    </tr>\n",
       "    <tr>\n",
       "      <th>327</th>\n",
       "      <td>YouTube Music</td>\n",
       "      <td>Watched Solo</td>\n",
       "      <td>https://music.youtube.com/watch?v=3QjSkB-ZJKQ</td>\n",
       "      <td>NaN</td>\n",
       "      <td>2025-05-18T16:13:33.251Z</td>\n",
       "      <td>[YouTube]</td>\n",
       "      <td>NaN</td>\n",
       "      <td>[YouTube watch history]</td>\n",
       "      <td>[{'name': 'Future - Topic', 'url': 'https://ww...</td>\n",
       "    </tr>\n",
       "    <tr>\n",
       "      <th>328</th>\n",
       "      <td>YouTube Music</td>\n",
       "      <td>Watched Last Last</td>\n",
       "      <td>https://music.youtube.com/watch?v=CmThpha4Hoo</td>\n",
       "      <td>NaN</td>\n",
       "      <td>2025-05-18T16:10:39.978Z</td>\n",
       "      <td>[YouTube]</td>\n",
       "      <td>NaN</td>\n",
       "      <td>[YouTube watch history]</td>\n",
       "      <td>[{'name': 'Burna Boy - Topic', 'url': 'https:/...</td>\n",
       "    </tr>\n",
       "    <tr>\n",
       "      <th>329</th>\n",
       "      <td>YouTube Music</td>\n",
       "      <td>Watched 1 AM clean - Civ</td>\n",
       "      <td>https://music.youtube.com/watch?v=uXeSOIsmsQs</td>\n",
       "      <td>NaN</td>\n",
       "      <td>2025-05-18T16:07:26.796Z</td>\n",
       "      <td>[YouTube]</td>\n",
       "      <td>NaN</td>\n",
       "      <td>[YouTube watch history]</td>\n",
       "      <td>[{'name': 'Goldinox', 'url': 'https://www.yout...</td>\n",
       "    </tr>\n",
       "    <tr>\n",
       "      <th>330</th>\n",
       "      <td>YouTube Music</td>\n",
       "      <td>Watched Cinderella</td>\n",
       "      <td>https://music.youtube.com/watch?v=rCwSRV7P6hY</td>\n",
       "      <td>NaN</td>\n",
       "      <td>2025-05-18T16:04:35.715Z</td>\n",
       "      <td>[YouTube]</td>\n",
       "      <td>NaN</td>\n",
       "      <td>[YouTube watch history]</td>\n",
       "      <td>[{'name': 'Future - Topic', 'url': 'https://ww...</td>\n",
       "    </tr>\n",
       "  </tbody>\n",
       "</table>\n",
       "</div>"
      ],
      "text/plain": [
       "            header                     title  \\\n",
       "326  YouTube Music             Watched 90210   \n",
       "327  YouTube Music              Watched Solo   \n",
       "328  YouTube Music         Watched Last Last   \n",
       "329  YouTube Music  Watched 1 AM clean - Civ   \n",
       "330  YouTube Music        Watched Cinderella   \n",
       "\n",
       "                                          titleUrl description  \\\n",
       "326  https://music.youtube.com/watch?v=tBfWb5IrbOI         NaN   \n",
       "327  https://music.youtube.com/watch?v=3QjSkB-ZJKQ         NaN   \n",
       "328  https://music.youtube.com/watch?v=CmThpha4Hoo         NaN   \n",
       "329  https://music.youtube.com/watch?v=uXeSOIsmsQs         NaN   \n",
       "330  https://music.youtube.com/watch?v=rCwSRV7P6hY         NaN   \n",
       "\n",
       "                         time   products details         activityControls  \\\n",
       "326  2025-05-18T16:18:00.227Z  [YouTube]     NaN  [YouTube watch history]   \n",
       "327  2025-05-18T16:13:33.251Z  [YouTube]     NaN  [YouTube watch history]   \n",
       "328  2025-05-18T16:10:39.978Z  [YouTube]     NaN  [YouTube watch history]   \n",
       "329  2025-05-18T16:07:26.796Z  [YouTube]     NaN  [YouTube watch history]   \n",
       "330  2025-05-18T16:04:35.715Z  [YouTube]     NaN  [YouTube watch history]   \n",
       "\n",
       "                                             subtitles  \n",
       "326  [{'name': 'Travis Scott - Topic', 'url': 'http...  \n",
       "327  [{'name': 'Future - Topic', 'url': 'https://ww...  \n",
       "328  [{'name': 'Burna Boy - Topic', 'url': 'https:/...  \n",
       "329  [{'name': 'Goldinox', 'url': 'https://www.yout...  \n",
       "330  [{'name': 'Future - Topic', 'url': 'https://ww...  "
      ]
     },
     "execution_count": 12,
     "metadata": {},
     "output_type": "execute_result"
    }
   ],
   "source": [
    "music_history = history.loc[history['header'] == 'YouTube Music']\n",
    "\n",
    "music_history.head()"
   ]
  },
  {
   "cell_type": "markdown",
   "id": "c3f4bc80",
   "metadata": {},
   "source": [
    "Now that we have our new dataframe, we can start our analysis. To start, let's see which songs I listen to the most:"
   ]
  },
  {
   "cell_type": "code",
   "execution_count": 31,
   "id": "291deed7",
   "metadata": {},
   "outputs": [
    {
     "data": {
      "text/plain": [
       "title\n",
       "Watched On the Low            20\n",
       "Watched Cinderella            18\n",
       "Watched We Don't Trust You    17\n",
       "Watched São Paulo             16\n",
       "Watched Mile High Memories    16\n",
       "Name: title, dtype: int64"
      ]
     },
     "execution_count": 31,
     "metadata": {},
     "output_type": "execute_result"
    }
   ],
   "source": [
    "songs_count =  music_history.groupby('title').title.count()\n",
    "\n",
    "top5_songs = songs_count.sort_values(ascending=False).head(5) # top 5 songs\n",
    "\n",
    "top5_songs"
   ]
  },
  {
   "cell_type": "markdown",
   "id": "ff124062",
   "metadata": {},
   "source": [
    "That's something I thought would be the case. I've been loving the song 'On the Low' by Burna Boy for a while, and I know Future's album was another favorite, given 'Cinderella', 'We Don't Trust You', and 'Mile High Memories' all showed up.\n",
    "\n",
    "Another thing that would be interesting to look at are songs I did not listen to as much. I want to make sure that I'm not looking at songs that may have been recommended to me and have only come up once, as that could skew the data. Just in case, I took the songs I've listened to less than 10 times, as they most likely showed up in my playlist but havent played to completion.\n",
    "\n",
    "\\* A problem that may cause problems with this data is that this does not assume the songs were played to completion, just the frequency they showed up and songs I may have queued myself."
   ]
  },
  {
   "cell_type": "code",
   "execution_count": null,
   "id": "f6d2f39a",
   "metadata": {},
   "outputs": [
    {
     "data": {
      "text/plain": [
       "title\n",
       "Watched Diet Pepsi                     9\n",
       "Watched Timeless                       8\n",
       "Watched Feel It (From “Invincible”)    5\n",
       "Watched All Me                         4\n",
       "Watched Essence                        3\n",
       "Name: title, dtype: int64"
      ]
     },
     "execution_count": 37,
     "metadata": {},
     "output_type": "execute_result"
    }
   ],
   "source": [
    "bot5_songs = songs_count[songs_count < 10].sort_values(ascending=False).head(5) # songs just under 10 plays\n",
    "bot5_songs"
   ]
  },
  {
   "cell_type": "markdown",
   "id": "85536c64",
   "metadata": {},
   "source": [
    "## What times I most often listen to music\n",
    "\n",
    "Another thing cool to take a look at are when I'm most commonly listening to music. My hypothesis would have to be that I listen to music the most during the afternoon/evening, given that's around the time I'm making my commute back home. I'll take a look at that first:"
   ]
  },
  {
   "cell_type": "code",
   "execution_count": null,
   "id": "ce2d99ee",
   "metadata": {},
   "outputs": [],
   "source": []
  }
 ],
 "metadata": {
  "kernelspec": {
   "display_name": "dataScience",
   "language": "python",
   "name": "python3"
  },
  "language_info": {
   "codemirror_mode": {
    "name": "ipython",
    "version": 3
   },
   "file_extension": ".py",
   "mimetype": "text/x-python",
   "name": "python",
   "nbconvert_exporter": "python",
   "pygments_lexer": "ipython3",
   "version": "3.12.8"
  }
 },
 "nbformat": 4,
 "nbformat_minor": 5
}
